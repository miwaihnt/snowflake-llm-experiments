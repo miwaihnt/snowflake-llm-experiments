{
 "metadata": {
  "kernelspec": {
   "display_name": "Streamlit Notebook",
   "name": "streamlit"
  },
  "lastEditStatus": {
   "notebookId": "bzhmuddtjuvd7zcnoz3s",
   "authorId": "4597139913204",
   "authorName": "MIWASU",
   "authorEmail": "shuhei.miwa@jp.nttdata.com",
   "sessionId": "fd2380f1-53e8-47b2-887c-805aab9688f4",
   "lastEditTime": 1758351714277
  }
 },
 "nbformat_minor": 5,
 "nbformat": 4,
 "cells": [
  {
   "cell_type": "markdown",
   "id": "6cdabc05-bcae-422a-abe8-6a0734e1b990",
   "metadata": {
    "name": "cell4",
    "collapsed": false
   },
   "source": "# Cortex Analyst徹底検証 #1 セットアップ"
  },
  {
   "cell_type": "markdown",
   "id": "0696cbad-7ec5-4306-b8c5-84c9a21f9247",
   "metadata": {
    "name": "cell6",
    "collapsed": false
   },
   "source": "## 概要\n- このNotebookは、Zennの記事：[Snowflake Cortex Analyst徹底検証 #1：Text-to-SQLの基本と単表/マルチターン精度を上げる設計](https://zenn.dev/nttdata_tech/articles/b7e27f17e348a7)に対応します  \n- このNotebookは、上記のZenn記事の環境設定を補助するために使用します。\n- 各自のSnowflakeアカウント>Notebooksに、この.ipynbファイルをimportして使用してください\n- 以降の項番は、Zennの記事に対応させています"
  },
  {
   "cell_type": "markdown",
   "id": "1a5fef43-90d6-4c00-89aa-03695984cc4f",
   "metadata": {
    "name": "cell7",
    "collapsed": false
   },
   "source": "## 3.1 環境準備"
  },
  {
   "cell_type": "markdown",
   "id": "4bd369ae-f71a-4810-a728-72740b01b49a",
   "metadata": {
    "name": "cell2",
    "collapsed": false
   },
   "source": "### ステップ1.基本設定\nDB,SCHEMAを作成します"
  },
  {
   "cell_type": "code",
   "id": "961920c4-3ab3-46b4-b922-59927c4f366e",
   "metadata": {
    "language": "sql",
    "name": "cell1"
   },
   "outputs": [],
   "source": "-- 検証用のDATABA\nUSE ROLE SYSADMIN;\nCREATE OR REPLACE DATABASE CORTEX_LAB;\nCREATE OR REPLACE SCHEMA CORTEX_LAB.L1;\nUSE SCHEMA CORTEX_LAB.L1;",
   "execution_count": null
  },
  {
   "cell_type": "markdown",
   "id": "9c63c28a-cd6f-4509-9180-0a596f3e6cee",
   "metadata": {
    "name": "cell3",
    "collapsed": false
   },
   "source": "### ステップ2. テーブルの作成\nSALES_L1 テーブルを作成します。"
  },
  {
   "cell_type": "code",
   "id": "02a8cfbe-3006-4377-88eb-d19438e82f10",
   "metadata": {
    "language": "sql",
    "name": "cell5"
   },
   "outputs": [],
   "source": "CREATE OR REPLACE TABLE SALES_L1 (\n  ORDER_ID   NUMBER            NOT NULL,\n  ORDER_DATE DATE              NOT NULL,\n  ITEM_ID    NUMBER            NOT NULL,\n  ITEM_NAME  STRING            NOT NULL,\n  CATEGORY   STRING            NOT NULL,\n  PRICE      NUMBER(10,2)      NOT NULL,\n  QUANTITY   NUMBER(4)         NOT NULL\n);",
   "execution_count": null
  },
  {
   "cell_type": "markdown",
   "id": "2460afc5-2db1-4933-8965-f95d5d224021",
   "metadata": {
    "name": "cell8"
   },
   "source": "### ステップ3. サンプルデータの挿入\nSALES_L1にサンプルデータを挿入します。"
  },
  {
   "cell_type": "code",
   "id": "72ede24e-0958-45aa-957c-78d71e4022a0",
   "metadata": {
    "language": "sql",
    "name": "cell9"
   },
   "outputs": [],
   "source": "INSERT INTO SALES_L1\nWITH PARAMS AS (\n  SELECT\n    ARRAY_CONSTRUCT('Beverage','Snack','Seafood','Meat','Vegetable','Fruit','Dairy','Staple','Sweets','Other') AS CATS,\n    ARRAY_CONSTRUCT('Cola','Tea','Coffee','Chips','Nuts','Cookie','Salmon','Tuna','Beef','Pork','Chicken','Lettuce','Tomato','Banana','Milk','Cheese','Rice','Bread','Cake','Chocolate') AS ITEMS\n),\nBASE AS (\n  SELECT SEQ8() AS SEQ\n  FROM TABLE(GENERATOR(ROWCOUNT=>3000))\n),\nRAND_BASE AS (\n  SELECT\n    SEQ + 1 AS ORDER_ID,\n    -- 2023〜2025 を中心にバラける日付（境界は定数なので UNIFORM 可）\n    DATEADD(day, UNIFORM(-365, 1095, RANDOM()), DATE('2024-01-01')) AS ORDER_DATE,\n    -- 0..19 / 0..9 を明示的に INT にキャスト\n    CAST(UNIFORM(0, 20, RANDOM()) AS INT) AS IDX_ITEM,\n    CAST(UNIFORM(0, 10, RANDOM()) AS INT) AS IDX_CAT,\n    RANDOM() AS R\n  FROM BASE\n),\nCHOICED AS (\n  SELECT\n    ORDER_ID,\n    ORDER_DATE,\n    -- バイアス後も INT に揃える\n    CAST(CASE WHEN R < 0.30 THEN 0 ELSE IDX_ITEM END AS INT) AS IDX_ITEM_B,\n    CAST(CASE WHEN R < 0.10 THEN 0 ELSE IDX_CAT  END AS INT) AS IDX_CAT_B\n  FROM RAND_BASE\n)\nSELECT\n  c.ORDER_ID,\n  c.ORDER_DATE,\n  1000 + c.IDX_ITEM_B                            AS ITEM_ID,\n  COALESCE(GET(p.ITEMS, c.IDX_ITEM_B)::STRING, 'UNKNOWN_ITEM') AS ITEM_NAME,\n  COALESCE(GET(p.CATS , c.IDX_CAT_B )::STRING, 'Other')        AS CATEGORY,\n  -- 100.00〜5000.00（NUMERICに丸め）\n  ROUND(UNIFORM(10000, 500000, RANDOM()) / 100.0, 2)           AS PRICE,\n  -- 1..5 を UNIFORM で明示的に生成し INT キャスト\n  CAST(UNIFORM(1, 6, RANDOM()) AS INT)                         AS QUANTITY\nFROM CHOICED c\nCROSS JOIN PARAMS p;",
   "execution_count": null
  },
  {
   "cell_type": "code",
   "id": "a2899ed2-d7fc-4d73-addf-b46a2418d942",
   "metadata": {
    "language": "sql",
    "name": "cell10"
   },
   "outputs": [],
   "source": "-- テーブルを確認\nSELECT * FROM SALES_L1 limit100;",
   "execution_count": null
  },
  {
   "cell_type": "markdown",
   "id": "9160aeb3-b786-4688-9ab4-d45410e71d4b",
   "metadata": {
    "name": "cell11",
    "collapsed": false
   },
   "source": "事前準備は以上です。各自、Cortex Analystの設定に移ってください。  \n\n- Snowsight>AI&ML>Cortex Analyst\n- ymlファイルはこのNotebookと同じリポジトリに格納しています。"
  }
 ]
}