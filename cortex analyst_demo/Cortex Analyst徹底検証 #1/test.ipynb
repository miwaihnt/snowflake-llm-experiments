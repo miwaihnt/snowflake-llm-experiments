{
 "cells": [
  {
   "cell_type": "code",
   "execution_count": null,
   "id": "e58768e6-002c-48ba-8990-105c710c486c",
   "metadata": {},
   "outputs": [],
   "source": [
    "# Cortex Analyst徹底検証 #1 セットアップ"
   ]
  }
 ],
 "metadata": {
  "kernelspec": {
   "display_name": "Python 3 (ipykernel)",
   "language": "python",
   "name": "python3"
  },
  "language_info": {
   "codemirror_mode": {
    "name": "ipython",
    "version": 3
   },
   "file_extension": ".py",
   "mimetype": "text/x-python",
   "name": "python",
   "nbconvert_exporter": "python",
   "pygments_lexer": "ipython3",
   "version": "3.11.9"
  }
 },
 "nbformat": 4,
 "nbformat_minor": 5
}
