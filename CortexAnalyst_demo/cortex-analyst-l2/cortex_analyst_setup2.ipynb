{
 "metadata": {
  "kernelspec": {
   "display_name": "Streamlit Notebook",
   "name": "streamlit"
  },
  "lastEditStatus": {
   "notebookId": "hoxu25np63upb3275enp",
   "authorId": "4597139913204",
   "authorName": "MIWASU",
   "authorEmail": "shuhei.miwa@jp.nttdata.com",
   "sessionId": "fbdfaf53-16e9-4a2e-b92f-71a811fb515a",
   "lastEditTime": 1758460299154
  }
 },
 "nbformat_minor": 5,
 "nbformat": 4,
 "cells": [
  {
   "cell_type": "markdown",
   "id": "a5362dea-160d-4523-b1d3-c969a6467ae3",
   "metadata": {
    "name": "cell3",
    "collapsed": false
   },
   "source": "# Cortex Analyst徹底検証 #2 セットアップ"
  },
  {
   "cell_type": "markdown",
   "id": "796bd10e-2758-4d53-b7bc-cdc22b9ca9dc",
   "metadata": {
    "name": "cell4",
    "collapsed": false
   },
   "source": "## 概要\n- このNotebookは、Zennの記事：[Snowflake Cortex Analyst徹底検証 #2：JOIN編と検証から見えた設計上の考慮事項](https://zenn.dev/nttdata_tech/articles/305a605eac9f61)に対応します  \n- このNotebookは、上記のZenn記事の環境設定を補助するために使用します。\n- 各自のSnowflakeアカウント>Notebooksに、この.ipynbファイルをimportして使用してください\n- 以降の項番は、Zennの記事に対応させています"
  },
  {
   "cell_type": "markdown",
   "id": "f9db5ece-0566-4a19-8067-6bb10f32dfbc",
   "metadata": {
    "name": "cell5",
    "collapsed": false
   },
   "source": "## 2.1 環境準備"
  },
  {
   "cell_type": "markdown",
   "id": "04c75a5c-14f9-4fb3-b7d8-64dd2f792962",
   "metadata": {
    "name": "cell6",
    "collapsed": false
   },
   "source": "### ステップ１.基本設定\n検証用のSCHEMAを作成します（DBは#1で使用したものを流用）"
  },
  {
   "cell_type": "code",
   "id": "3775908f-ca36-4846-8f38-5adca39217f2",
   "metadata": {
    "language": "sql",
    "name": "cell1"
   },
   "source": "USE ROLE SYSADMIN;\nUSE DATABASE CORTEX_LAB;\nCREATE SCHEMA IF NOT EXISTS CORTEX_LAB.L3;\nUSE SCHEMA CORTEX_LAB.L3;",
   "execution_count": null,
   "outputs": []
  },
  {
   "cell_type": "markdown",
   "id": "8aa6b519-cc5f-43c3-a2cf-d577788bae4c",
   "metadata": {
    "name": "cell2",
    "collapsed": false
   },
   "source": "### ステップ2.テーブルの作成\nITEM_DIMテーブルを作成します"
  },
  {
   "cell_type": "code",
   "id": "deacc769-9adc-47ee-a107-33ee489264d8",
   "metadata": {
    "language": "sql",
    "name": "cell8"
   },
   "outputs": [],
   "source": "CREATE OR REPLACE TABLE ITEM_DIM (\n  ITEM_ID    NUMBER        PRIMARY KEY, \n  ITEM_NAME  STRING        NOT NULL,\n  CATEGORY   STRING        NOT NULL, \n  BRAND      STRING                            \n);",
   "execution_count": null
  },
  {
   "cell_type": "markdown",
   "id": "6c19f60a-912c-4e5d-806d-f6c495c0989c",
   "metadata": {
    "name": "cell10",
    "collapsed": false
   },
   "source": "### ステップ3:サンプルデータの挿入"
  },
  {
   "cell_type": "code",
   "id": "37fa67e0-2f30-4823-85e0-2ce0acba98a1",
   "metadata": {
    "language": "sql",
    "name": "cell7"
   },
   "outputs": [],
   "source": "INSERT INTO ITEM_DIM\nWITH PARAMS AS (\n  SELECT\n    ARRAY_CONSTRUCT\n      ('Cola','Tea','Coffee','Mineral Water','Juice','Energy Drink',\n       'Chips','Nuts','Cookie','Crackers',\n       'Chocolate','Cake','Ice Cream',\n       'Salmon','Tuna','Shrimp','Cod','Mackerel',\n       'Beef','Pork','Chicken',\n       'Lettuce','Tomato','Onion','Potato','Carrot',\n       'Banana','Apple','Orange','Grape',\n       'Milk','Cheese','Yogurt','Butter',\n       'Rice','Bread','Pasta','Flour','Sugar',\n       'Other Item'\n      ) AS ITEMS,\n    ARRAY_CONSTRUCT\n      ('Beverage','Beverage','Beverage','Beverage','Beverage','Beverage',\n       'Snack','Snack','Snack','Snack',\n       'Sweets','Sweets','Sweets',\n       'Seafood','Seafood','Seafood','Seafood','Seafood',\n       'Meat','Meat','Meat',\n       'Vegetable','Vegetable','Vegetable','Vegetable','Vegetable',\n       'Fruit','Fruit','Fruit','Fruit',\n       'Dairy','Dairy','Dairy','Dairy',\n       'Staple','Staple','Staple','Staple','Staple',\n       'Other'\n      ) AS CATS,\n    ARRAY_CONSTRUCT('Acme','Nimbus','Polar','Orion','ZenFoods','Maple','Kite','Aurora') AS BRANDS\n),\nSEQ AS (\n  SELECT SEQ8() AS IDX\n  FROM TABLE(GENERATOR(ROWCOUNT => 40))\n),\nBIASED_BRAND AS (\n  SELECT\n    IDX,\n    CASE\n      WHEN RANDOM() < 0.30 THEN 'Acme'\n      WHEN RANDOM() < 0.55 THEN 'Nimbus'\n      ELSE GET((SELECT BRANDS FROM PARAMS), CAST(UNIFORM(2, 8, RANDOM()) AS INT))::STRING -- 2..7=Polar..Aurora\n    END AS BRAND\n  FROM SEQ\n)\nSELECT\n  1000 + s.IDX                                                   AS ITEM_ID,\n  GET(p.ITEMS, s.IDX)::STRING                                    AS ITEM_NAME,\n  GET(p.CATS , s.IDX)::STRING                                    AS CATEGORY,\n  b.BRAND                                                        AS BRAND\nFROM SEQ s\nCROSS JOIN PARAMS p\nJOIN BIASED_BRAND b ON b.IDX = s.IDX\nORDER BY ITEM_ID;",
   "execution_count": null
  },
  {
   "cell_type": "code",
   "id": "31b7240e-d30c-4635-a7ce-3cb23315d19e",
   "metadata": {
    "language": "sql",
    "name": "cell9",
    "codeCollapsed": false
   },
   "outputs": [],
   "source": "-- テーブルを確認\nSELECT * FROM ITEM_DIM;",
   "execution_count": null
  },
  {
   "cell_type": "markdown",
   "id": "03db29e3-cfb3-40fc-afab-509811fc6d0c",
   "metadata": {
    "name": "cell11",
    "collapsed": false
   },
   "source": "### ステップ4.テーブルの作成\nREGION_DIMテーブルを作成します"
  },
  {
   "cell_type": "code",
   "id": "7c05cd21-3bf4-47c9-931b-0b9c5f9e166e",
   "metadata": {
    "language": "sql",
    "name": "cell13"
   },
   "outputs": [],
   "source": "CREATE OR REPLACE TABLE REGION_DIM (\n  REGION_ID   NUMBER       PRIMARY KEY,\n  REGION_NAME STRING       NOT NULL\n);",
   "execution_count": null
  },
  {
   "cell_type": "markdown",
   "id": "0cd709c9-1983-4bcd-aa12-7d6d63631fb0",
   "metadata": {
    "name": "cell12",
    "collapsed": false
   },
   "source": "### ステップ5:サンプルデータの挿入"
  },
  {
   "cell_type": "code",
   "id": "b1e71f23-dae5-4d11-8ca9-d8bed5286227",
   "metadata": {
    "language": "sql",
    "name": "cell14"
   },
   "outputs": [],
   "source": "INSERT INTO REGION_DIM (REGION_ID, REGION_NAME)\nVALUES\n  (10,  'Hokkaido'),\n  (20,  'Tohoku'),\n  (30,  'Kanto'),\n  (40,  'Chubu'),\n  (50,  'Kansai'),\n  (60,  'Chugoku'),\n  (70,  'Shikoku'),\n  (80,  'Kyushu'),\n  (90,  'Okinawa');",
   "execution_count": null
  },
  {
   "cell_type": "code",
   "id": "ca6df7b5-73fc-4e51-8302-fc6473500487",
   "metadata": {
    "language": "sql",
    "name": "cell15"
   },
   "outputs": [],
   "source": "-- テーブル確認\nSELECT * FROM REGION_DIM;",
   "execution_count": null
  },
  {
   "cell_type": "markdown",
   "id": "04b1162c-ade9-41cc-b8e8-7d76a9dce54a",
   "metadata": {
    "name": "cell16",
    "collapsed": false
   },
   "source": "### ステップ6.テーブルの作成\nSTORE_DIMテーブルを作成します"
  },
  {
   "cell_type": "code",
   "id": "16675e21-a984-4ab7-b460-c9203979e122",
   "metadata": {
    "language": "sql",
    "name": "cell17"
   },
   "outputs": [],
   "source": "CREATE OR REPLACE TABLE STORE_DIM (\n  STORE_ID    NUMBER       PRIMARY KEY,   \n  STORE_NAME  STRING       NOT NULL,      \n  REGION_ID   NUMBER       NOT NULL,             \n  STORE_TYPE  STRING,                               \n  OPEN_DATE   DATE,                          \n  CONSTRAINT FK_STORE_REGION\n    FOREIGN KEY (REGION_ID) REFERENCES REGION_DIM(REGION_ID)\n);",
   "execution_count": null
  },
  {
   "cell_type": "markdown",
   "id": "c9aecdb8-bdbe-4dba-b82e-2d204a7dacf1",
   "metadata": {
    "name": "cell18",
    "collapsed": false
   },
   "source": "### ステップ7:サンプルデータの挿入"
  },
  {
   "cell_type": "code",
   "id": "69a295c2-4da2-45ee-8592-fe9612eca096",
   "metadata": {
    "language": "sql",
    "name": "cell19",
    "collapsed": false,
    "codeCollapsed": false
   },
   "outputs": [],
   "source": "INSERT INTO STORE_DIM (STORE_ID, STORE_NAME, REGION_ID, STORE_TYPE, OPEN_DATE)\nWITH\nSEQ AS (\n  SELECT SEQ8() AS IDX\n  FROM TABLE(GENERATOR(ROWCOUNT => 60))               -- 0..59\n),\nPARAMS AS (\n  SELECT\n    ARRAY_CONSTRUCT('Metro','Mall','Suburban','Outlet','Airport') AS TYPES\n),\nREGION_BUCKET AS (\n  SELECT\n    s.IDX,\n    CASE\n      WHEN NTILE(60) OVER (ORDER BY s.IDX) <= 18 THEN 30  -- Kanto\n      WHEN NTILE(60) OVER (ORDER BY s.IDX) <= 30 THEN 50  -- Kansai\n      WHEN NTILE(60) OVER (ORDER BY s.IDX) <= 39 THEN 40  -- Chubu\n      WHEN NTILE(60) OVER (ORDER BY s.IDX) <= 46 THEN 80  -- Kyushu\n      WHEN NTILE(60) OVER (ORDER BY s.IDX) <= 51 THEN 20  -- Tohoku\n      WHEN NTILE(60) OVER (ORDER BY s.IDX) <= 54 THEN 10  -- Hokkaido\n      WHEN NTILE(60) OVER (ORDER BY s.IDX) <= 57 THEN 60  -- Chugoku\n      WHEN NTILE(60) OVER (ORDER BY s.IDX) <= 59 THEN 70  -- Shikoku\n      ELSE 90                                           -- Okinawa\n    END AS REGION_ID\n  FROM SEQ s\n),\nRAND AS (\n  SELECT\n    IDX,\n    UNIFORM(-3650, 0, RANDOM()) AS DAY_SHIFT \n  FROM SEQ\n)\nSELECT\n  100 + s.IDX                                                        AS STORE_ID, \n  'Store_' || LPAD(TO_VARCHAR(1 + s.IDX), 3, '0')                    AS STORE_NAME,\n  rb.REGION_ID                                                       AS REGION_ID,\n  GET(p.TYPES, MOD(ABS(HASH(TO_VARCHAR(100 + s.IDX))), ARRAY_SIZE(p.TYPES)))::STRING\n    AS STORE_TYPE,\n  DATEADD('day', r.DAY_SHIFT, CURRENT_DATE())                        AS OPEN_DATE\nFROM SEQ s\nJOIN REGION_BUCKET rb ON rb.IDX = s.IDX\nJOIN RAND r          ON r.IDX = s.IDX\nCROSS JOIN PARAMS p\nORDER BY STORE_ID;",
   "execution_count": null
  },
  {
   "cell_type": "code",
   "id": "fdcae102-996c-4d27-945c-b6e5b1012bd9",
   "metadata": {
    "language": "sql",
    "name": "cell20"
   },
   "outputs": [],
   "source": "-- テーブル確認\nSELECT * FROM STORE_DIM;",
   "execution_count": null
  },
  {
   "cell_type": "markdown",
   "id": "792041a5-14aa-451e-b9c7-2d158da77b98",
   "metadata": {
    "name": "cell21"
   },
   "source": "### ステップ8.テーブルの作成\nSALES_L3テーブルを作成します"
  },
  {
   "cell_type": "code",
   "id": "994cfc71-8284-42ac-a512-ef4f2fd75831",
   "metadata": {
    "language": "sql",
    "name": "cell22"
   },
   "outputs": [],
   "source": "CREATE OR REPLACE TABLE SALES_L3 (\n  ORDER_ID   NUMBER         NOT NULL,  \n  ORDER_DATE DATE           NOT NULL,       \n  ITEM_ID    NUMBER         NOT NULL,         \n  STORE_ID   NUMBER         NOT NULL,       \n  QUANTITY   NUMBER(4)      NOT NULL,    \n  PRICE      NUMBER(10,2)   NOT NULL,    \n  CONSTRAINT FK_SALES_ITEM  FOREIGN KEY (ITEM_ID)  REFERENCES ITEM_DIM(ITEM_ID),\n  CONSTRAINT FK_SALES_STORE FOREIGN KEY (STORE_ID) REFERENCES STORE_DIM(STORE_ID)\n);",
   "execution_count": null
  },
  {
   "cell_type": "markdown",
   "id": "2461e626-ef9c-404f-9e16-fb90e9994d62",
   "metadata": {
    "name": "cell24",
    "collapsed": false
   },
   "source": "### ステップ9:サンプルデータの挿入"
  },
  {
   "cell_type": "code",
   "id": "7de1a576-30ca-430b-9d86-6c763edc76b2",
   "metadata": {
    "language": "sql",
    "name": "cell23"
   },
   "outputs": [],
   "source": "INSERT INTO SALES_L3 (ORDER_ID, ORDER_DATE, ITEM_ID, STORE_ID, QUANTITY, PRICE)\nWITH\nBASE AS (\n  SELECT SEQ8() AS SEQ\n  FROM TABLE(GENERATOR(ROWCOUNT => 2000))\n),\nITEMS AS (\n  SELECT ITEM_ID, CATEGORY, ROW_NUMBER() OVER (ORDER BY ITEM_ID) AS RN, COUNT(*) OVER () AS CNT\n  FROM ITEM_DIM\n),\nSTORES AS (\n  SELECT STORE_ID, ROW_NUMBER() OVER (ORDER BY STORE_ID) AS RN, COUNT(*) OVER () AS CNT\n  FROM STORE_DIM\n),\nPICKED AS (\n  SELECT\n    b.SEQ,\n    DATEADD('day', UNIFORM(0, 1096, RANDOM()), DATE('2023-01-01')) AS ORDER_DATE, \n    1 + MOD(UNIFORM(0, 1000000, RANDOM()), (SELECT MAX(CNT) FROM ITEMS))  AS RN_ITEM, \n    1 + MOD(UNIFORM(0, 1000000, RANDOM()), (SELECT MAX(CNT) FROM STORES)) AS RN_STORE, \n    1 + MOD(UNIFORM(0, 1000000, RANDOM()), 5) AS QUANTITY                         \n  FROM BASE b\n),\nJOINED AS (\n  SELECT\n    p.SEQ,\n    p.ORDER_DATE,\n    i.ITEM_ID,\n    i.CATEGORY,\n    s.STORE_ID,\n    p.QUANTITY\n  FROM PICKED p\n  JOIN ITEMS  i ON i.RN = p.RN_ITEM\n  JOIN STORES s ON s.RN = p.RN_STORE\n),\nRANGES AS (\n  SELECT\n    j.*,\n    CASE j.CATEGORY\n      WHEN 'Seafood'   THEN 100000  -- 1000.00\n      WHEN 'Meat'      THEN  80000  --  800.00\n      WHEN 'Dairy'     THEN  12000  --  120.00\n      WHEN 'Beverage'  THEN  10000  --  100.00\n      WHEN 'Snack'     THEN  10000  --  100.00\n      WHEN 'Sweets'    THEN  20000  --  200.00\n      WHEN 'Vegetable' THEN   5000  --   50.00\n      WHEN 'Fruit'     THEN   8000  --   80.00\n      WHEN 'Staple'    THEN  20000  --  200.00\n      ELSE                   10000  --  100.00\n    END AS MIN_CENTS,\n    CASE j.CATEGORY\n      WHEN 'Seafood'   THEN 600000  -- 6000.00\n      WHEN 'Meat'      THEN 480000  -- 4800.00\n      WHEN 'Dairy'     THEN  72000  --  720.00\n      WHEN 'Beverage'  THEN  50000  --  500.00\n      WHEN 'Snack'     THEN  80000  --  800.00\n      WHEN 'Sweets'    THEN 120000  -- 1200.00\n      WHEN 'Vegetable' THEN  30000  --  300.00\n      WHEN 'Fruit'     THEN  50000  --  500.00\n      WHEN 'Staple'    THEN 200000  -- 2000.00\n      ELSE                   100000 -- 1000.00\n    END AS MAX_CENTS\n  FROM JOINED j\n),\nPRICED AS (\n  SELECT\n    SEQ, ORDER_DATE, ITEM_ID, STORE_ID, QUANTITY,\n    CAST(\n      (MIN_CENTS + MOD(UNIFORM(0, 1000000, RANDOM()), (MAX_CENTS - MIN_CENTS + 1))) / 100.0\n      AS NUMBER(10,2)\n    ) AS UNIT_PRICE\n  FROM RANGES\n)\nSELECT\n  100000 + SEQ AS ORDER_ID,\n  ORDER_DATE,\n  ITEM_ID,\n  STORE_ID,\n  QUANTITY,\n  UNIT_PRICE AS PRICE\nFROM PRICED\nORDER BY ORDER_ID;\n",
   "execution_count": null
  },
  {
   "cell_type": "code",
   "id": "dde61863-e81f-4270-baa9-9c6b6ed35b12",
   "metadata": {
    "language": "sql",
    "name": "cell25"
   },
   "outputs": [],
   "source": "-- テーブル確認\nSELECT * FROM SALES_L3;",
   "execution_count": null
  },
  {
   "cell_type": "markdown",
   "id": "836f9d87-259b-4911-948c-b9b8032fcfbd",
   "metadata": {
    "name": "cell26",
    "collapsed": false
   },
   "source": "事前準備は以上です。各自、Cortex Analystの設定に移ってください。  \n\n- Snowsight>AI&ML>Cortex Analyst\n- ymlファイルはこのNotebookと同じリポジトリに格納しています。"
  }
 ]
}