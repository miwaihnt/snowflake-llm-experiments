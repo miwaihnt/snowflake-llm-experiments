{
 "cells": [
  {
   "cell_type": "markdown",
   "id": "6cdabc05-bcae-422a-abe8-6a0734e1b990",
   "metadata": {},
   "source": [
    "# Cortex Analyst徹底検証 #1 セットアップ"
   ]
  },
  {
   "cell_type": "markdown",
   "id": "0696cbad-7ec5-4306-b8c5-84c9a21f9247",
   "metadata": {},
   "source": [
    "## 概要\n",
    "- このNotebookは、Zennの記事：[Snowflake Cortex Analyst徹底検証 #1：Text-to-SQLの基本と単表/マルチターン精度を上げる設計](https://zenn.dev/nttdata_tech/articles/b7e27f17e348a7)に対応します  \n",
    "- このNotebookは、上記のZenn記事の環境設定を補助するために使用します。\n",
    "- 各自のSnowflakeアカウント>Notebooksに、この.ipynbファイルをimportして使用してください\n",
    "- 以降の項番は、Zennの記事に対応させています"
   ]
  },
  {
   "cell_type": "markdown",
   "id": "1a5fef43-90d6-4c00-89aa-03695984cc4f",
   "metadata": {},
   "source": [
    "## 3.1 環境準備"
   ]
  },
  {
   "cell_type": "markdown",
   "id": "4bd369ae-f71a-4810-a728-72740b01b49a",
   "metadata": {},
   "source": [
    "### ステップ1.基本設定\n",
    "DB,SCHEMAを作成します"
   ]
  },
  {
   "cell_type": "code",
   "execution_count": null,
   "id": "961920c4-3ab3-46b4-b922-59927c4f366e",
   "metadata": {},
   "outputs": [],
   "source": [
    "-- 検証用のDATABA\n",
    "USE ROLE SYSADMIN;\n",
    "CREATE OR REPLACE DATABASE CORTEX_LAB;\n",
    "CREATE OR REPLACE SCHEMA CORTEX_LAB.L1;\n",
    "USE SCHEMA CORTEX_LAB.L1;"
   ]
  },
  {
   "cell_type": "markdown",
   "id": "9c63c28a-cd6f-4509-9180-0a596f3e6cee",
   "metadata": {},
   "source": [
    "### ステップ2. テーブルの作成\n",
    "SALES_L1 テーブルを作成します。"
   ]
  },
  {
   "cell_type": "code",
   "execution_count": null,
   "id": "02a8cfbe-3006-4377-88eb-d19438e82f10",
   "metadata": {},
   "outputs": [],
   "source": [
    "CREATE OR REPLACE TABLE SALES_L1 (\n",
    "  ORDER_ID   NUMBER            NOT NULL,\n",
    "  ORDER_DATE DATE              NOT NULL,\n",
    "  ITEM_ID    NUMBER            NOT NULL,\n",
    "  ITEM_NAME  STRING            NOT NULL,\n",
    "  CATEGORY   STRING            NOT NULL,\n",
    "  PRICE      NUMBER(10,2)      NOT NULL,\n",
    "  QUANTITY   NUMBER(4)         NOT NULL\n",
    ");"
   ]
  },
  {
   "cell_type": "markdown",
   "id": "2460afc5-2db1-4933-8965-f95d5d224021",
   "metadata": {},
   "source": [
    "### ステップ3. サンプルデータの挿入\n",
    "SALES_L1にサンプルデータを挿入します。"
   ]
  },
  {
   "cell_type": "code",
   "execution_count": null,
   "id": "72ede24e-0958-45aa-957c-78d71e4022a0",
   "metadata": {},
   "outputs": [],
   "source": [
    "INSERT INTO SALES_L1\n",
    "WITH PARAMS AS (\n",
    "  SELECT\n",
    "    ARRAY_CONSTRUCT('Beverage','Snack','Seafood','Meat','Vegetable','Fruit','Dairy','Staple','Sweets','Other') AS CATS,\n",
    "    ARRAY_CONSTRUCT('Cola','Tea','Coffee','Chips','Nuts','Cookie','Salmon','Tuna','Beef','Pork','Chicken','Lettuce','Tomato','Banana','Milk','Cheese','Rice','Bread','Cake','Chocolate') AS ITEMS\n",
    "),\n",
    "BASE AS (\n",
    "  SELECT SEQ8() AS SEQ\n",
    "  FROM TABLE(GENERATOR(ROWCOUNT=>3000))\n",
    "),\n",
    "RAND_BASE AS (\n",
    "  SELECT\n",
    "    SEQ + 1 AS ORDER_ID,\n",
    "    DATEADD(day, UNIFORM(-365, 1095, RANDOM()), DATE('2024-01-01')) AS ORDER_DATE,\n",
    "    CAST(UNIFORM(0, 20, RANDOM()) AS INT) AS IDX_ITEM,\n",
    "    CAST(UNIFORM(0, 10, RANDOM()) AS INT) AS IDX_CAT,\n",
    "    RANDOM() AS R\n",
    "  FROM BASE\n",
    "),\n",
    "CHOICED AS (\n",
    "  SELECT\n",
    "    ORDER_ID,\n",
    "    ORDER_DATE,\n",
    "    CAST(CASE WHEN R < 0.30 THEN 0 ELSE IDX_ITEM END AS INT) AS IDX_ITEM_B,\n",
    "    CAST(CASE WHEN R < 0.10 THEN 0 ELSE IDX_CAT  END AS INT) AS IDX_CAT_B\n",
    "  FROM RAND_BASE\n",
    ")\n",
    "SELECT\n",
    "  c.ORDER_ID,\n",
    "  c.ORDER_DATE,\n",
    "  1000 + c.IDX_ITEM_B                            AS ITEM_ID,\n",
    "  COALESCE(GET(p.ITEMS, c.IDX_ITEM_B)::STRING, 'UNKNOWN_ITEM') AS ITEM_NAME,\n",
    "  COALESCE(GET(p.CATS , c.IDX_CAT_B )::STRING, 'Other')        AS CATEGORY,\n",
    "  ROUND(UNIFORM(10000, 500000, RANDOM()) / 100.0, 2)           AS PRICE,\n",
    "  CAST(UNIFORM(1, 6, RANDOM()) AS INT)                         AS QUANTITY\n",
    "FROM CHOICED c\n",
    "CROSS JOIN PARAMS p;"
   ]
  },
  {
   "cell_type": "code",
   "execution_count": null,
   "id": "a2899ed2-d7fc-4d73-addf-b46a2418d942",
   "metadata": {},
   "outputs": [],
   "source": [
    "-- テーブルを確認\n",
    "SELECT * FROM SALES_L1 limit100;"
   ]
  },
  {
   "cell_type": "markdown",
   "id": "9160aeb3-b786-4688-9ab4-d45410e71d4b",
   "metadata": {},
   "source": [
    "事前準備は以上です。各自、Cortex Analystの設定に移ってください。  \n",
    "\n",
    "- Snowsight>AI&ML>Cortex Analyst\n",
    "- ymlファイルはこのNotebookと同じリポジトリに格納しています。"
   ]
  }
 ],
 "metadata": {
  "kernelspec": {
   "display_name": "Python 3",
   "language": "python",
   "name": "python3"
  },
  "language_info": {
   "name": "python",
   "version": "3.11.9"
  }
 },
 "nbformat": 4,
 "nbformat_minor": 5
}